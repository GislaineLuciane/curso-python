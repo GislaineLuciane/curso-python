{
 "cells": [
  {
   "cell_type": "markdown",
   "metadata": {},
   "source": [
    "<img src=\"../../images/variaveis.png\">"
   ]
  },
  {
   "cell_type": "markdown",
   "metadata": {},
   "source": [
    "## Variáveis"
   ]
  },
  {
   "cell_type": "code",
   "execution_count": 1,
   "metadata": {},
   "outputs": [],
   "source": [
    "nome = 'Aya'\n",
    "\n",
    "idade = '25'\n",
    "\n",
    "cidade = 'Salvador'"
   ]
  },
  {
   "cell_type": "code",
   "execution_count": 2,
   "metadata": {},
   "outputs": [
    {
     "data": {
      "text/plain": [
       "'Olá! meu nome é Aya, tenho 25 anos e moro em Salvador'"
      ]
     },
     "execution_count": 2,
     "metadata": {},
     "output_type": "execute_result"
    }
   ],
   "source": [
    "'Olá! meu nome é ' + nome + ', tenho ' + idade + ' anos e moro em ' + cidade"
   ]
  },
  {
   "cell_type": "markdown",
   "metadata": {},
   "source": [
    "## Operações\n",
    "\n",
    "### Operações Núméricas"
   ]
  },
  {
   "cell_type": "code",
   "execution_count": 3,
   "metadata": {},
   "outputs": [
    {
     "data": {
      "text/plain": [
       "4"
      ]
     },
     "execution_count": 3,
     "metadata": {},
     "output_type": "execute_result"
    }
   ],
   "source": [
    "2 + 2"
   ]
  },
  {
   "cell_type": "code",
   "execution_count": 4,
   "metadata": {},
   "outputs": [
    {
     "data": {
      "text/plain": [
       "6"
      ]
     },
     "execution_count": 4,
     "metadata": {},
     "output_type": "execute_result"
    }
   ],
   "source": [
    "2 * 3"
   ]
  },
  {
   "cell_type": "code",
   "execution_count": 5,
   "metadata": {},
   "outputs": [
    {
     "data": {
      "text/plain": [
       "3"
      ]
     },
     "execution_count": 5,
     "metadata": {},
     "output_type": "execute_result"
    }
   ],
   "source": [
    "5 - 2"
   ]
  },
  {
   "cell_type": "code",
   "execution_count": 6,
   "metadata": {},
   "outputs": [
    {
     "data": {
      "text/plain": [
       "9.0"
      ]
     },
     "execution_count": 6,
     "metadata": {},
     "output_type": "execute_result"
    }
   ],
   "source": [
    "45 / 5"
   ]
  },
  {
   "cell_type": "code",
   "execution_count": 7,
   "metadata": {},
   "outputs": [
    {
     "data": {
      "text/plain": [
       "4"
      ]
     },
     "execution_count": 7,
     "metadata": {},
     "output_type": "execute_result"
    }
   ],
   "source": [
    "2 ** 2"
   ]
  },
  {
   "cell_type": "markdown",
   "metadata": {},
   "source": [
    "### Operações de comparação"
   ]
  },
  {
   "cell_type": "code",
   "execution_count": 8,
   "metadata": {},
   "outputs": [
    {
     "data": {
      "text/plain": [
       "False"
      ]
     },
     "execution_count": 8,
     "metadata": {},
     "output_type": "execute_result"
    }
   ],
   "source": [
    "2 > 7"
   ]
  },
  {
   "cell_type": "code",
   "execution_count": 9,
   "metadata": {},
   "outputs": [
    {
     "data": {
      "text/plain": [
       "False"
      ]
     },
     "execution_count": 9,
     "metadata": {},
     "output_type": "execute_result"
    }
   ],
   "source": [
    "'laranja' == 'banana'"
   ]
  },
  {
   "cell_type": "code",
   "execution_count": 10,
   "metadata": {},
   "outputs": [
    {
     "data": {
      "text/plain": [
       "False"
      ]
     },
     "execution_count": 10,
     "metadata": {},
     "output_type": "execute_result"
    }
   ],
   "source": [
    "'laranja' == 'Laranja'"
   ]
  },
  {
   "cell_type": "code",
   "execution_count": 11,
   "metadata": {},
   "outputs": [
    {
     "data": {
      "text/plain": [
       "True"
      ]
     },
     "execution_count": 11,
     "metadata": {},
     "output_type": "execute_result"
    }
   ],
   "source": [
    "2 + 2 == 2 * 2 "
   ]
  },
  {
   "cell_type": "markdown",
   "metadata": {},
   "source": [
    "### Operadores binários: ==, <, >, !=, <=, >=, in, not in, is, and, or, not\n",
    "\n",
    "> Indicação da [PEP 8](https://wiki.python.org.br/GuiaDeEstilo): Sempre circunde os operadores binários com um único espaço de cada lado"
   ]
  },
  {
   "cell_type": "code",
   "execution_count": 12,
   "metadata": {},
   "outputs": [
    {
     "data": {
      "text/plain": [
       "False"
      ]
     },
     "execution_count": 12,
     "metadata": {},
     "output_type": "execute_result"
    }
   ],
   "source": [
    "'laranja' != 'laranja'"
   ]
  },
  {
   "cell_type": "code",
   "execution_count": 13,
   "metadata": {
    "scrolled": true
   },
   "outputs": [
    {
     "name": "stderr",
     "output_type": "stream",
     "text": [
      "<>:1: SyntaxWarning: \"is\" with a literal. Did you mean \"==\"?\n",
      "<>:1: SyntaxWarning: \"is\" with a literal. Did you mean \"==\"?\n",
      "/tmp/ipykernel_35105/4225139519.py:1: SyntaxWarning: \"is\" with a literal. Did you mean \"==\"?\n",
      "  5 is 8\n"
     ]
    },
    {
     "data": {
      "text/plain": [
       "False"
      ]
     },
     "execution_count": 13,
     "metadata": {},
     "output_type": "execute_result"
    }
   ],
   "source": [
    "5 is 8"
   ]
  },
  {
   "cell_type": "markdown",
   "metadata": {},
   "source": [
    "---"
   ]
  },
  {
   "cell_type": "markdown",
   "metadata": {},
   "source": [
    "> Uma curiosidade: [Why does Python log a SyntaxWarning for ‘is’ with literals?](https://adamj.eu/tech/2020/01/21/why-does-python-3-8-syntaxwarning-for-is-literal/)"
   ]
  },
  {
   "cell_type": "code",
   "execution_count": 14,
   "metadata": {},
   "outputs": [
    {
     "data": {
      "text/plain": [
       "True"
      ]
     },
     "execution_count": 14,
     "metadata": {},
     "output_type": "execute_result"
    }
   ],
   "source": [
    "a = 'Aya'\n",
    "b = a\n",
    "c = 'Aya'\n",
    "\n",
    "a is b"
   ]
  },
  {
   "cell_type": "code",
   "execution_count": 15,
   "metadata": {},
   "outputs": [
    {
     "data": {
      "text/plain": [
       "True"
      ]
     },
     "execution_count": 15,
     "metadata": {},
     "output_type": "execute_result"
    }
   ],
   "source": [
    "a is c"
   ]
  },
  {
   "cell_type": "code",
   "execution_count": 16,
   "metadata": {},
   "outputs": [
    {
     "data": {
      "text/plain": [
       "140460040337584"
      ]
     },
     "execution_count": 16,
     "metadata": {},
     "output_type": "execute_result"
    }
   ],
   "source": [
    "id(a)"
   ]
  },
  {
   "cell_type": "code",
   "execution_count": 17,
   "metadata": {},
   "outputs": [
    {
     "data": {
      "text/plain": [
       "140460040337584"
      ]
     },
     "execution_count": 17,
     "metadata": {},
     "output_type": "execute_result"
    }
   ],
   "source": [
    "id(b)"
   ]
  },
  {
   "cell_type": "code",
   "execution_count": 18,
   "metadata": {},
   "outputs": [
    {
     "data": {
      "text/plain": [
       "140460040337584"
      ]
     },
     "execution_count": 18,
     "metadata": {},
     "output_type": "execute_result"
    }
   ],
   "source": [
    "id(c)"
   ]
  },
  {
   "cell_type": "markdown",
   "metadata": {},
   "source": [
    "> O capítulo [\"9.10. Objects and values\" do livro \"How to Think Like a Computer Scientist\"](https://www.openbookproject.net/thinkcs/python/english2e/ch09.html#index-2) também  ajuda a entender o que aconteceu acima ;]\n",
    "\n",
    "---"
   ]
  },
  {
   "cell_type": "markdown",
   "metadata": {},
   "source": [
    "## Tipos básicos de dados"
   ]
  },
  {
   "cell_type": "code",
   "execution_count": 19,
   "metadata": {},
   "outputs": [
    {
     "data": {
      "text/plain": [
       "str"
      ]
     },
     "execution_count": 19,
     "metadata": {},
     "output_type": "execute_result"
    }
   ],
   "source": [
    "type(nome)"
   ]
  },
  {
   "cell_type": "code",
   "execution_count": 20,
   "metadata": {},
   "outputs": [
    {
     "data": {
      "text/plain": [
       "str"
      ]
     },
     "execution_count": 20,
     "metadata": {},
     "output_type": "execute_result"
    }
   ],
   "source": [
    "type(idade)"
   ]
  },
  {
   "cell_type": "code",
   "execution_count": null,
   "metadata": {},
   "outputs": [],
   "source": [
    "idade = 25\n",
    "\n",
    "'Olá! meu nome é ' + nome + ', tenho ' + idade + ' anos e moro em ' + cidade"
   ]
  },
  {
   "cell_type": "code",
   "execution_count": 22,
   "metadata": {},
   "outputs": [
    {
     "data": {
      "text/plain": [
       "float"
      ]
     },
     "execution_count": 22,
     "metadata": {},
     "output_type": "execute_result"
    }
   ],
   "source": [
    "type(10.5)"
   ]
  },
  {
   "cell_type": "markdown",
   "metadata": {},
   "source": [
    "**Existem outros tipos de dados?**"
   ]
  },
  {
   "cell_type": "code",
   "execution_count": 23,
   "metadata": {},
   "outputs": [
    {
     "data": {
      "text/plain": [
       "datetime.datetime(2023, 5, 8, 17, 31, 34, 865227)"
      ]
     },
     "execution_count": 23,
     "metadata": {},
     "output_type": "execute_result"
    }
   ],
   "source": [
    "from datetime import datetime\n",
    "\n",
    "data = datetime.now()\n",
    "\n",
    "data"
   ]
  },
  {
   "cell_type": "code",
   "execution_count": 24,
   "metadata": {},
   "outputs": [
    {
     "data": {
      "text/plain": [
       "datetime.datetime"
      ]
     },
     "execution_count": 24,
     "metadata": {},
     "output_type": "execute_result"
    }
   ],
   "source": [
    "type(data)"
   ]
  },
  {
   "cell_type": "markdown",
   "metadata": {},
   "source": [
    "## Olhando para o lado...\n",
    "\n",
    "Aqui podemos observar como acontece a atribuição de variáveis em outras liguagens de programação.  \n",
    "Percebemos que todas elas são capazes de fazer a mesma coisa, só que cada uma tem as suas regras de sintaxe e de escrita de código.\n",
    "\n",
    "- [Online C Compiler.](https://www.onlinegdb.com/online_c_compiler)\n",
    "\n",
    "```\n",
    "# include <stdio.h>\n",
    "\n",
    "int main(void){\n",
    "    int num;\n",
    "    num = 10;\n",
    "    \n",
    "    printf(\"O programa A imprime o n ́umero %d\\n\",num);\n",
    "    \n",
    "    return 1;\n",
    "}\n",
    "```\n",
    "\n",
    "- [Welcome to a tour of Go](https://go.dev/tour/list)\n",
    "- [Variáveis em Golang - Um tour por Go](https://go-tour-br.appspot.com/basics/8)"
   ]
  },
  {
   "cell_type": "markdown",
   "metadata": {},
   "source": [
    "## DICA DO DIA\n",
    "\n",
    "### Mas e se eu quiser receber dados da usuária pra executar o meu programa?"
   ]
  },
  {
   "cell_type": "markdown",
   "metadata": {},
   "source": [
    "Você conhece a instrução `input()`? Execute o código abaixo pra saber como ela funciona:\n",
    "\n",
    "> ##### Dica: depois de digitar o valor desejado tecle enter"
   ]
  },
  {
   "cell_type": "code",
   "execution_count": 25,
   "metadata": {},
   "outputs": [
    {
     "name": "stdout",
     "output_type": "stream",
     "text": [
      "Entre com o 1º valor: 7\n",
      "Entre com o 2º valor: 7\n",
      "A soma é dos valores é  14\n"
     ]
    }
   ],
   "source": [
    "num1 = input('Entre com o 1º valor: ')\n",
    "\n",
    "num2 = input('Entre com o 2º valor: ')\n",
    "\n",
    "soma = int(num1) + int(num2)\n",
    "\n",
    "print(\"A soma é dos valores é \", soma)"
   ]
  },
  {
   "cell_type": "markdown",
   "metadata": {},
   "source": [
    "> ##### Saiba mais sobre `input()` no tutorial [Função input e print no Python: Entrada e Saída de dados](https://pythonacademy.com.br/blog/input-e-print-entrada-e-saida-de-dados-no-python)"
   ]
  },
  {
   "cell_type": "markdown",
   "metadata": {},
   "source": [
    "## Exercícios"
   ]
  },
  {
   "cell_type": "markdown",
   "metadata": {},
   "source": [
    "1) Em uma instrução `print()`, o que acontece se você omitir um dos parênteses ou ambos?"
   ]
  },
  {
   "cell_type": "code",
   "execution_count": 1,
   "metadata": {},
   "outputs": [
    {
     "name": "stdout",
     "output_type": "stream",
     "text": [
      "Primeiro exercício\n"
     ]
    }
   ],
   "source": [
    "# para a resolução desse exercício, primeiro vamos escrever \n",
    "# a instrução/função print() de forma completa\n",
    "# e vamos passar como argumento a string \"Primeiro exercício\"\n",
    "# lembrando que toda string deve estar entre aspas simples ('')\n",
    "# ou entre aspas duplas (\"\")\n",
    "\n",
    "print('Primeiro exercício')"
   ]
  },
  {
   "cell_type": "code",
   "execution_count": 2,
   "metadata": {},
   "outputs": [
    {
     "ename": "SyntaxError",
     "evalue": "incomplete input (752769194.py, line 4)",
     "output_type": "error",
     "traceback": [
      "\u001b[0;36m  Cell \u001b[0;32mIn[2], line 4\u001b[0;36m\u001b[0m\n\u001b[0;31m    print('Primeiro exercício'\u001b[0m\n\u001b[0m                              ^\u001b[0m\n\u001b[0;31mSyntaxError\u001b[0m\u001b[0;31m:\u001b[0m incomplete input\n"
     ]
    }
   ],
   "source": [
    "# vimos que a célula anterior executou corretamente\n",
    "# agora vamos omitir um dos parênteses da função print()\n",
    "\n",
    "print('Primeiro exercício'"
   ]
  },
  {
   "cell_type": "markdown",
   "metadata": {},
   "source": [
    "**Resposta final:**  Podemos observar a partir da mensagem do python que que houve um erro de Sintaxe. [Ler tópico \"2.8 - Depuração\" do Livro pense em Python](https://penseallen.github.io/PensePython2e/02-vars-expr-instr.html)"
   ]
  },
  {
   "cell_type": "markdown",
   "metadata": {},
   "source": [
    "2) O que acontece se você tentar usar 02 + 05 no Python?"
   ]
  },
  {
   "cell_type": "code",
   "execution_count": 3,
   "metadata": {},
   "outputs": [
    {
     "ename": "SyntaxError",
     "evalue": "leading zeros in decimal integer literals are not permitted; use an 0o prefix for octal integers (4244715669.py, line 6)",
     "output_type": "error",
     "traceback": [
      "\u001b[0;36m  Cell \u001b[0;32mIn[3], line 6\u001b[0;36m\u001b[0m\n\u001b[0;31m    02 + 05\u001b[0m\n\u001b[0m    ^\u001b[0m\n\u001b[0;31mSyntaxError\u001b[0m\u001b[0;31m:\u001b[0m leading zeros in decimal integer literals are not permitted; use an 0o prefix for octal integers\n"
     ]
    }
   ],
   "source": [
    "# vamos escrever exatamente o que a questão pede e tentar executar\n",
    "# lembrando que para os exercícios devemos usar as célular de código\n",
    "# para realizar as tarefas e usar os comentários ou uma céluca de markdown \n",
    "# para fazer cometários e anotaçoes sobre o exercício\n",
    "\n",
    "02 + 05"
   ]
  },
  {
   "cell_type": "markdown",
   "metadata": {},
   "source": [
    "**Resposta final:** Observamos aqui que o python nos dá outro erro de sintaxe `SyntaxError` \n",
    "isso acontece porque o python não considera zeros à esquerda para operações \n",
    "com números inteiros."
   ]
  },
  {
   "cell_type": "markdown",
   "metadata": {},
   "source": [
    "3. Faça um algoritmo que solicite a entrada do nome, idade e cidade e exiba a seguinte mensagem:\n",
    "\n",
    "> _'Olá! meu nome é Aya, tenho 25 anos e moro em Salvador'_"
   ]
  },
  {
   "cell_type": "code",
   "execution_count": 11,
   "metadata": {},
   "outputs": [
    {
     "name": "stdout",
     "output_type": "stream",
     "text": [
      "Qual é o seu nome? Aya\n",
      "Qual é a sua idade? 21\n",
      "Em qual cidade você mora? Salvador\n",
      "\n",
      "Olá! meu nome é  Aya, tenho  21  anos e moro em  Salvador\n"
     ]
    }
   ],
   "source": [
    "nome = input('Qual é o seu nome? ')\n",
    "\n",
    "idade = input('Qual é a sua idade? ')\n",
    "\n",
    "cidade = input('Em qual cidade você mora? ')\n",
    "\n",
    "print('\\nOlá! meu nome é ', nome + ', tenho ', idade,' anos e moro em ', cidade)"
   ]
  },
  {
   "cell_type": "markdown",
   "metadata": {},
   "source": [
    "4) Quantos segundos há em 42 minutos e 42 segundos?"
   ]
  },
  {
   "cell_type": "code",
   "execution_count": 8,
   "metadata": {},
   "outputs": [
    {
     "name": "stdout",
     "output_type": "stream",
     "text": [
      "2520\n"
     ]
    }
   ],
   "source": [
    "# Se 1 minuto tem 60 segundo, para saber quantos segundos há em 42 min\n",
    "# basta multiplicarmos 42 por 60. \n",
    "# Podemos fazer isso em Python usando o operador de multiplicação (*)\n",
    "\n",
    "segundos = 42 * 60\n",
    "\n",
    "print(segundos)"
   ]
  },
  {
   "cell_type": "code",
   "execution_count": 9,
   "metadata": {},
   "outputs": [
    {
     "name": "stdout",
     "output_type": "stream",
     "text": [
      "Informe o valor em minutos que deseja converter: 5\n",
      "\n",
      "Resultado:  5  minutos equivalem a  300  segundos\n"
     ]
    }
   ],
   "source": [
    "# mas se quisermos evoluir o nosso codigo, podemos transformar ele\n",
    "# em um conversor de minutos para segundos a partir da entrada do usuário:\n",
    "\n",
    "minutos = input('Informe o valor em minutos que deseja converter: ')\n",
    "\n",
    "segundos = int(minutos) * 60\n",
    "\n",
    "print('\\nResultado: ', minutos, ' minutos equivalem a ', segundos, ' segundos')"
   ]
  },
  {
   "cell_type": "markdown",
   "metadata": {},
   "source": [
    "5) Vimos que `n = 42` é funciona. E `42 = n`?"
   ]
  },
  {
   "cell_type": "code",
   "execution_count": 10,
   "metadata": {},
   "outputs": [
    {
     "ename": "SyntaxError",
     "evalue": "cannot assign to literal here. Maybe you meant '==' instead of '='? (3090476294.py, line 1)",
     "output_type": "error",
     "traceback": [
      "\u001b[0;36m  Cell \u001b[0;32mIn[10], line 1\u001b[0;36m\u001b[0m\n\u001b[0;31m    42 = n\u001b[0m\n\u001b[0m    ^\u001b[0m\n\u001b[0;31mSyntaxError\u001b[0m\u001b[0;31m:\u001b[0m cannot assign to literal here. Maybe you meant '==' instead of '='?\n"
     ]
    }
   ],
   "source": [
    "42 = n"
   ]
  },
  {
   "cell_type": "markdown",
   "metadata": {},
   "source": [
    "**Resposta final:** Ao executar o código solicitado na questão temos como resultado um erro de sintaxe.  \n",
    "Isso acontece por conta das regras para a definição de variáveis. Ler o tópico [2.2 - Nomes de variáveis](https://penseallen.github.io/PensePython2e/02-vars-expr-instr.html).  \n",
    "Nome de variável pode conter letras, números e o sinal underline/subtraço (\\_), mas devem sempre iniciar com letras."
   ]
  },
  {
   "cell_type": "markdown",
   "metadata": {},
   "source": [
    "6) Qual é o resultado da expressão `x = y = 1`? Você consegue explicar o que aconteceu aqui?"
   ]
  },
  {
   "cell_type": "code",
   "execution_count": 12,
   "metadata": {},
   "outputs": [],
   "source": [
    "x = y = 1"
   ]
  },
  {
   "cell_type": "code",
   "execution_count": 15,
   "metadata": {},
   "outputs": [
    {
     "name": "stdout",
     "output_type": "stream",
     "text": [
      "1\n"
     ]
    }
   ],
   "source": [
    "# se o sinal de igual (=) significa uma atribuição\n",
    "# poderíamos descrever o código acima como\n",
    "# x recebe y e y recebe o número 1\n",
    "# dessa forma estaria x recebendo o valor 1 também?\n",
    "# para testar isso vamos imprimir o valor das variáveis x e y\n",
    "\n",
    "print(x)"
   ]
  },
  {
   "cell_type": "code",
   "execution_count": 16,
   "metadata": {},
   "outputs": [
    {
     "name": "stdout",
     "output_type": "stream",
     "text": [
      "1\n"
     ]
    }
   ],
   "source": [
    "print(y)"
   ]
  },
  {
   "cell_type": "markdown",
   "metadata": {},
   "source": [
    "**Resposta final:** Sim, podemos afirmar que houve uma atribuição de múltiplas variáveis na mesma instrução.  \n",
    "[Python permite a atribuição múltipla!](http://excript.com/python/atribuicao-multipla-python.html)"
   ]
  },
  {
   "cell_type": "markdown",
   "metadata": {},
   "source": [
    "7) O que acontece se você puser um ponto e vírgula no fim de uma instrução no Python? E um ponto?"
   ]
  },
  {
   "cell_type": "code",
   "execution_count": 21,
   "metadata": {},
   "outputs": [
    {
     "name": "stdout",
     "output_type": "stream",
     "text": [
      "Exercício 7\n"
     ]
    }
   ],
   "source": [
    "print(\"Exercício 7\");"
   ]
  },
  {
   "cell_type": "code",
   "execution_count": 22,
   "metadata": {},
   "outputs": [
    {
     "ename": "SyntaxError",
     "evalue": "invalid syntax (1413246252.py, line 1)",
     "output_type": "error",
     "traceback": [
      "\u001b[0;36m  Cell \u001b[0;32mIn[22], line 1\u001b[0;36m\u001b[0m\n\u001b[0;31m    print(\"Exercício 7\").\u001b[0m\n\u001b[0m                         ^\u001b[0m\n\u001b[0;31mSyntaxError\u001b[0m\u001b[0;31m:\u001b[0m invalid syntax\n"
     ]
    }
   ],
   "source": [
    "print(\"Exercício 7\")."
   ]
  },
  {
   "cell_type": "markdown",
   "metadata": {},
   "source": [
    "**Resposta final:** Ao colocar um sinal de ponto e vírgula (;) a instrução executa normalmente.  \n",
    "Ao colocar um sinal de ponto (.) ocorre um erro de sintaxe.  \n",
    "Isso por que o sinal de ponto e vírgula (;) é usado em muitas linguagens para indicar o fim de uma instrução.  \n",
    "> _Lembra no exemplo de código em C?_  \n",
    "\n",
    "Mas em Python ele é opcional! Já o sinal de ponto (.) é usado em python para indicar o acesso a um atributo  \n",
    "ou função de um objeto. Mesmo que a gente não conheça o significado de um objeto agora,  \n",
    "basta pensarmos ele como uma variável que pode conter outras variáveis e funções dentro."
   ]
  },
  {
   "cell_type": "markdown",
   "metadata": {},
   "source": [
    "8) Em notação matemática é possível multiplicar x e y desta forma: xy. O que acontece se você tentar fazer o mesmo no Python?\n",
    "\n",
    "```python\n",
    "x = 2\n",
    "y = 8\n",
    "\n",
    "xy\n",
    "```"
   ]
  },
  {
   "cell_type": "code",
   "execution_count": 23,
   "metadata": {
    "scrolled": true
   },
   "outputs": [
    {
     "ename": "NameError",
     "evalue": "name 'xy' is not defined",
     "output_type": "error",
     "traceback": [
      "\u001b[0;31m---------------------------------------------------------------------------\u001b[0m",
      "\u001b[0;31mNameError\u001b[0m                                 Traceback (most recent call last)",
      "Cell \u001b[0;32mIn[23], line 5\u001b[0m\n\u001b[1;32m      1\u001b[0m x \u001b[38;5;241m=\u001b[39m \u001b[38;5;241m2\u001b[39m\n\u001b[1;32m      3\u001b[0m y \u001b[38;5;241m=\u001b[39m \u001b[38;5;241m8\u001b[39m \n\u001b[0;32m----> 5\u001b[0m \u001b[43mxy\u001b[49m\n",
      "\u001b[0;31mNameError\u001b[0m: name 'xy' is not defined"
     ]
    }
   ],
   "source": [
    "x = 2\n",
    "\n",
    "y = 8 \n",
    "\n",
    "xy"
   ]
  },
  {
   "cell_type": "markdown",
   "metadata": {},
   "source": [
    "**Resposta final:** Na instrução acima houve um erro de Nome `NameError` dizendo que o nome xy  \n",
    "não estava definido. Isso geralmente acontece quando usamos uma variável que ainda não definimos.  \n",
    "Logo, quando tentamos executar `xy` o python entendeu como se estivéssemos usando uma nova variável.  \n",
    "Ele não interpretou `xy` como uma multiplicação."
   ]
  },
  {
   "cell_type": "markdown",
   "metadata": {},
   "source": [
    "9) O que significa a saída do código abaixo?\n",
    "\n",
    "```python\n",
    "nome = 'Curso Livre Aya'\n",
    "type(nome)\n",
    "```"
   ]
  },
  {
   "cell_type": "code",
   "execution_count": 24,
   "metadata": {},
   "outputs": [
    {
     "data": {
      "text/plain": [
       "str"
      ]
     },
     "execution_count": 24,
     "metadata": {},
     "output_type": "execute_result"
    }
   ],
   "source": [
    "nome = 'Curso Livre Aya'\n",
    "type(nome)"
   ]
  },
  {
   "cell_type": "markdown",
   "metadata": {},
   "source": [
    "**Resposta final:** Significa que o tipo de dado da variável `nome` é um  `str`  \n",
    "o que significa que ela é uma string."
   ]
  },
  {
   "cell_type": "markdown",
   "metadata": {},
   "source": [
    "10) Reproduza um erro de sintaxe"
   ]
  },
  {
   "cell_type": "code",
   "execution_count": 25,
   "metadata": {},
   "outputs": [
    {
     "ename": "SyntaxError",
     "evalue": "incomplete input (1361441763.py, line 1)",
     "output_type": "error",
     "traceback": [
      "\u001b[0;36m  Cell \u001b[0;32mIn[25], line 1\u001b[0;36m\u001b[0m\n\u001b[0;31m    print('Curso Livre Aya'\u001b[0m\n\u001b[0m                           ^\u001b[0m\n\u001b[0;31mSyntaxError\u001b[0m\u001b[0;31m:\u001b[0m incomplete input\n"
     ]
    }
   ],
   "source": [
    "print('Curso Livre Aya'"
   ]
  },
  {
   "cell_type": "markdown",
   "metadata": {},
   "source": [
    "11) Reproduza um erro de identação"
   ]
  },
  {
   "cell_type": "code",
   "execution_count": 39,
   "metadata": {},
   "outputs": [
    {
     "ename": "IndentationError",
     "evalue": "unexpected indent (631144975.py, line 6)",
     "output_type": "error",
     "traceback": [
      "\u001b[0;36m  Cell \u001b[0;32mIn[39], line 6\u001b[0;36m\u001b[0m\n\u001b[0;31m    type(nome)\u001b[0m\n\u001b[0m    ^\u001b[0m\n\u001b[0;31mIndentationError\u001b[0m\u001b[0;31m:\u001b[0m unexpected indent\n"
     ]
    }
   ],
   "source": [
    "# aqui vamos executar o mesmo código que executamos no exercício 9\n",
    "# Mas dessa vez vamos adicionar um espaço na frente do código na segunda linha.\n",
    "# Vamos ver o que acontece!\n",
    "\n",
    "nome = 'Curso Livre Aya'\n",
    " type(nome)"
   ]
  },
  {
   "cell_type": "markdown",
   "metadata": {},
   "source": [
    "**Resposta final:** O Python não utiliza o sinal de ponto e vírgula para saber se uma instrução terminou...  \n",
    "**mas ele utiliza o conceito de identação** para entender como executar as instrução do código.  \n",
    "Não podemos começar a programar em um nível e, sem ter motivos a partir da sintaxe da linguagem,  \n",
    "iniciar a próxima linha de código com uma espaço a mais a frente da instrução.\n",
    "\n",
    "> Entendi... Mas então, quais são os motivos para adicionar esses espaços a mais (fazer esse recuo)?  \n",
    "> Veremos em breve em Condicionais e Laços de repretição!\n",
    "\n",
    "[Saiba mais em: Indentação em Python 3 por Erick Faria](https://www.balaiocientifico.com/python/indentacao-em-python/)"
   ]
  },
  {
   "cell_type": "markdown",
   "metadata": {},
   "source": [
    "12. Escreva um programa que calcule a soma de três variáveis e imprima o resultado na tela"
   ]
  },
  {
   "cell_type": "code",
   "execution_count": 42,
   "metadata": {},
   "outputs": [
    {
     "name": "stdout",
     "output_type": "stream",
     "text": [
      "\n",
      "A média das notas é:  9.666666666666666\n"
     ]
    }
   ],
   "source": [
    "primeiraNota = 10\n",
    "segundaNota = 9\n",
    "terceitaNota = 10\n",
    "\n",
    "media = (primeiraNota + segundaNota + terceitaNota) / 3\n",
    "\n",
    "print('\\nA média das notas é: ', media)"
   ]
  },
  {
   "cell_type": "markdown",
   "metadata": {},
   "source": [
    "13. Escreva um programa que receba três variáveis, calcule sua soma e imprima o resultado na tela"
   ]
  },
  {
   "cell_type": "code",
   "execution_count": 47,
   "metadata": {},
   "outputs": [
    {
     "name": "stdout",
     "output_type": "stream",
     "text": [
      "Entre com a 1ª nota: 10\n",
      "Entre com a 2ª nota: 8\n",
      "Entre com a 3ª nota: 8.9\n",
      "\n",
      "A média das notas é:  8.966666666666667\n"
     ]
    }
   ],
   "source": [
    "primeiraNota = float(input('Entre com a 1ª nota: '))\n",
    "segundaNota = float(input('Entre com a 2ª nota: '))\n",
    "terceitaNota = float(input('Entre com a 3ª nota: '))\n",
    "\n",
    "media = (primeiraNota + segundaNota + terceitaNota) / 3\n",
    "\n",
    "print('\\nA média das notas é: ', media)"
   ]
  },
  {
   "cell_type": "markdown",
   "metadata": {},
   "source": [
    "14. Como podemos calcular o aumento do salário de Vanessa em Python?\n",
    "\n",
    "> Vanessa ganha R$ 2.500,00 e deseja um aumento de 60% do seu salário"
   ]
  },
  {
   "cell_type": "code",
   "execution_count": 49,
   "metadata": {},
   "outputs": [
    {
     "name": "stdout",
     "output_type": "stream",
     "text": [
      "O novo salário de Vanessa é de: R$ 4000.0\n"
     ]
    }
   ],
   "source": [
    "salario = 2500\n",
    "percentual = 0.60\n",
    "\n",
    "aumento = salario * percentual\n",
    "novoSalario = salario + aumento\n",
    "\n",
    "print('O novo salário de Vanessa é de: R$', novoSalario)"
   ]
  },
  {
   "cell_type": "markdown",
   "metadata": {},
   "source": [
    "15. Escreva um programa que receba 2 variáveis e imprima na tela se elas são iguais ou não."
   ]
  },
  {
   "cell_type": "code",
   "execution_count": 44,
   "metadata": {},
   "outputs": [
    {
     "name": "stdout",
     "output_type": "stream",
     "text": [
      "Entre com o 1º valor: 5\n",
      "Entre com o 2º valor: 5.0\n",
      "\n",
      "A igualdade dos valores é:  False\n"
     ]
    }
   ],
   "source": [
    "primeiroValor = input('Entre com o 1º valor: ')\n",
    "\n",
    "segundoValor = input('Entre com o 2º valor: ')\n",
    "\n",
    "status = primeiroValor == segundoValor\n",
    "\n",
    "print(\"\\nA igualdade dos valores é: \", status)"
   ]
  },
  {
   "cell_type": "markdown",
   "metadata": {},
   "source": [
    "16. Escreva um programa que receba 2 variáveis e imprima na tela se a primeira variável é maior do que a segunda ou não."
   ]
  },
  {
   "cell_type": "code",
   "execution_count": 50,
   "metadata": {},
   "outputs": [
    {
     "name": "stdout",
     "output_type": "stream",
     "text": [
      "Entre com o 1º número: 8\n",
      "Entre com o 2º número: 9\n",
      "\n",
      "O primeiro valor é maior do que o segundo valor?  False\n"
     ]
    }
   ],
   "source": [
    "primeiroValor = int(input('Entre com o 1º número: '))\n",
    "\n",
    "segundoValor = int(input('Entre com o 2º número: '))\n",
    "\n",
    "status = primeiroValor > segundoValor\n",
    "\n",
    "print(\"\\nO primeiro valor é maior do que o segundo valor? \", status)"
   ]
  },
  {
   "cell_type": "markdown",
   "metadata": {},
   "source": [
    "---"
   ]
  },
  {
   "cell_type": "markdown",
   "metadata": {},
   "source": [
    "## Quais são as outras formas de praticar esses conceitos?\n",
    "\n",
    "<img src=\"https://media.giphy.com/media/v1.Y2lkPTc5MGI3NjExODY0Yjk5YmE5YjMyZjFiOTBiNGZkMWE0Y2NjNmQ4Njg4ZjA0MDBjOCZlcD12MV9pbnRlcm5hbF9naWZzX2dpZklkJmN0PWc/26tPghhb310muUkEw/giphy.gif\" align=\"left\">"
   ]
  },
  {
   "cell_type": "markdown",
   "metadata": {},
   "source": [
    "<Adicionar atividade de sua preferência para aplicação dos conceitos>"
   ]
  }
 ],
 "metadata": {
  "kernelspec": {
   "display_name": "Python 3 (ipykernel)",
   "language": "python",
   "name": "python3"
  },
  "language_info": {
   "codemirror_mode": {
    "name": "ipython",
    "version": 3
   },
   "file_extension": ".py",
   "mimetype": "text/x-python",
   "name": "python",
   "nbconvert_exporter": "python",
   "pygments_lexer": "ipython3",
   "version": "3.10.9"
  }
 },
 "nbformat": 4,
 "nbformat_minor": 4
}
